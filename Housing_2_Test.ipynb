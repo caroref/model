{
  "nbformat": 4,
  "nbformat_minor": 0,
  "metadata": {
    "colab": {
      "name": "Housing 2 Test.ipynb",
      "version": "0.3.2",
      "provenance": [],
      "collapsed_sections": [],
      "include_colab_link": true
    },
    "kernelspec": {
      "name": "python3",
      "display_name": "Python 3"
    },
    "accelerator": "GPU"
  },
  "cells": [
    {
      "cell_type": "markdown",
      "metadata": {
        "id": "view-in-github",
        "colab_type": "text"
      },
      "source": [
        "<a href=\"https://colab.research.google.com/github/caroref/model/blob/master/Housing_2_Test.ipynb\" target=\"_parent\"><img src=\"https://colab.research.google.com/assets/colab-badge.svg\" alt=\"Open In Colab\"/></a>"
      ]
    },
    {
      "cell_type": "code",
      "metadata": {
        "id": "A2YouEqhz_JR",
        "colab_type": "code",
        "outputId": "6e8361a5-05a7-478f-dab1-68247b05ad0d",
        "colab": {
          "base_uri": "https://localhost:8080/",
          "height": 90
        }
      },
      "source": [
        "from __future__ import absolute_import, division, print_function, unicode_literals\n",
        "\n",
        "import os\n",
        "import random\n",
        "import shutil\n",
        "\n",
        "import tensorflow as tf\n",
        "import tensorflow_hub as hub\n",
        "print(\"TensorFlow version is \", tf.__version__)\n",
        "\n",
        "from tensorflow import keras\n",
        "from tensorflow.keras import layers\n",
        "\n",
        "import numpy as np\n",
        "\n",
        "import matplotlib.pyplot as plt\n",
        "import matplotlib.image as mpimg"
      ],
      "execution_count": 1,
      "outputs": [
        {
          "output_type": "stream",
          "text": [
            "WARNING: Logging before flag parsing goes to stderr.\n",
            "W0606 15:27:50.722772 139930870982528 __init__.py:56] Some hub symbols are not available because TensorFlow version is less than 1.14\n"
          ],
          "name": "stderr"
        },
        {
          "output_type": "stream",
          "text": [
            "TensorFlow version is  1.13.1\n"
          ],
          "name": "stdout"
        }
      ]
    },
    {
      "cell_type": "code",
      "metadata": {
        "id": "KfSIWF1q0Csv",
        "colab_type": "code",
        "outputId": "689687ba-a3f7-4947-c3be-69fe9a883594",
        "colab": {
          "base_uri": "https://localhost:8080/",
          "height": 232
        }
      },
      "source": [
        "# Allow Colab to access drive\n",
        "!apt-get install -y -qq software-properties-common python-software-properties module-init-tools\n",
        "!add-apt-repository -y ppa:alessandro-strada/ppa 2>&1 > /dev/null\n",
        "!apt-get update -qq 2>&1 > /dev/null\n",
        "!apt-get -y install -qq google-drive-ocamlfuse fuse\n",
        "from google.colab import auth\n",
        "auth.authenticate_user()\n",
        "from oauth2client.client import GoogleCredentials\n",
        "creds = GoogleCredentials.get_application_default()\n",
        "import getpass\n",
        "!google-drive-ocamlfuse -headless -id={creds.client_id} -secret={creds.client_secret} < /dev/null 2>&1 | grep URL\n",
        "vcode = getpass.getpass()\n",
        "!echo {vcode} | google-drive-ocamlfuse -headless -id={creds.client_id} -secret={creds.client_secret}\n",
        "\n",
        "#linking Colab to use drive as if local\n",
        "!mkdir -p drive\n",
        "!google-drive-ocamlfuse drive\n"
      ],
      "execution_count": 2,
      "outputs": [
        {
          "output_type": "stream",
          "text": [
            "E: Package 'python-software-properties' has no installation candidate\n",
            "Selecting previously unselected package google-drive-ocamlfuse.\n",
            "(Reading database ... 130912 files and directories currently installed.)\n",
            "Preparing to unpack .../google-drive-ocamlfuse_0.7.3-0ubuntu3~ubuntu18.04.1_amd64.deb ...\n",
            "Unpacking google-drive-ocamlfuse (0.7.3-0ubuntu3~ubuntu18.04.1) ...\n",
            "Setting up google-drive-ocamlfuse (0.7.3-0ubuntu3~ubuntu18.04.1) ...\n",
            "Processing triggers for man-db (2.8.3-2ubuntu0.1) ...\n",
            "Please, open the following URL in a web browser: https://accounts.google.com/o/oauth2/auth?client_id=32555940559.apps.googleusercontent.com&redirect_uri=urn%3Aietf%3Awg%3Aoauth%3A2.0%3Aoob&scope=https%3A%2F%2Fwww.googleapis.com%2Fauth%2Fdrive&response_type=code&access_type=offline&approval_prompt=force\n",
            "··········\n",
            "Please, open the following URL in a web browser: https://accounts.google.com/o/oauth2/auth?client_id=32555940559.apps.googleusercontent.com&redirect_uri=urn%3Aietf%3Awg%3Aoauth%3A2.0%3Aoob&scope=https%3A%2F%2Fwww.googleapis.com%2Fauth%2Fdrive&response_type=code&access_type=offline&approval_prompt=force\n",
            "Please enter the verification code: Access token retrieved correctly.\n"
          ],
          "name": "stdout"
        }
      ]
    },
    {
      "cell_type": "code",
      "metadata": {
        "id": "0MY-mhUE1VbV",
        "colab_type": "code",
        "colab": {}
      },
      "source": [
        "trn_dir = 'drive/Colab/Final/Test2/Train/'\n",
        "tst_dir = 'drive/Colab/Final/Test2/Test/'\n",
        "\n",
        "trn_like = os.path.join(trn_dir, 'Like')\n",
        "tst_like = os.path.join(tst_dir, 'Like')\n",
        "\n",
        "trn_disl = os.path.join(trn_dir, 'Dislike')\n",
        "tst_disl = os.path.join(tst_dir, 'Dislike')"
      ],
      "execution_count": 0,
      "outputs": []
    },
    {
      "cell_type": "code",
      "metadata": {
        "id": "HMY205oWzug7",
        "colab_type": "code",
        "colab": {}
      },
      "source": [
        "# keras library import  for Saving and loading model and weights\n",
        "from tensorflow.keras.models import model_from_json\n",
        "from tensorflow.keras.models import load_model"
      ],
      "execution_count": 0,
      "outputs": []
    },
    {
      "cell_type": "code",
      "metadata": {
        "id": "pVGVQqgmzxla",
        "colab_type": "code",
        "outputId": "d6ed44ae-0300-4b38-aee9-3f28a252fdd1",
        "colab": {
          "base_uri": "https://localhost:8080/",
          "height": 304
        }
      },
      "source": [
        "# load json and create model\n",
        "json_file = open('drive/Colab Notebooks/model/2_model_num.json', 'r')\n",
        "\n",
        "loaded_model_json = json_file.read()\n",
        "json_file.close()\n",
        "loaded_model = model_from_json(loaded_model_json)\n",
        "\n",
        "# load weights into new model\n",
        "loaded_model.load_weights(\"drive/Colab Notebooks/model/2_model_num.h5\")\n",
        "print(\"Loaded model from drive\")\n",
        "\n",
        "loaded_model=load_model('drive/Colab Notebooks/model/2_model_num.hdf5')\n"
      ],
      "execution_count": 5,
      "outputs": [
        {
          "output_type": "stream",
          "text": [
            "WARNING:tensorflow:From /usr/local/lib/python3.6/dist-packages/tensorflow/python/ops/resource_variable_ops.py:435: colocate_with (from tensorflow.python.framework.ops) is deprecated and will be removed in a future version.\n",
            "Instructions for updating:\n",
            "Colocations handled automatically by placer.\n"
          ],
          "name": "stdout"
        },
        {
          "output_type": "stream",
          "text": [
            "W0606 15:29:39.744735 139930870982528 deprecation.py:323] From /usr/local/lib/python3.6/dist-packages/tensorflow/python/ops/resource_variable_ops.py:435: colocate_with (from tensorflow.python.framework.ops) is deprecated and will be removed in a future version.\n",
            "Instructions for updating:\n",
            "Colocations handled automatically by placer.\n"
          ],
          "name": "stderr"
        },
        {
          "output_type": "stream",
          "text": [
            "Loaded model from drive\n",
            "WARNING:tensorflow:From /usr/local/lib/python3.6/dist-packages/tensorflow/python/ops/math_ops.py:3066: to_int32 (from tensorflow.python.ops.math_ops) is deprecated and will be removed in a future version.\n",
            "Instructions for updating:\n",
            "Use tf.cast instead.\n"
          ],
          "name": "stdout"
        },
        {
          "output_type": "stream",
          "text": [
            "W0606 15:30:22.224220 139930870982528 deprecation.py:323] From /usr/local/lib/python3.6/dist-packages/tensorflow/python/ops/math_ops.py:3066: to_int32 (from tensorflow.python.ops.math_ops) is deprecated and will be removed in a future version.\n",
            "Instructions for updating:\n",
            "Use tf.cast instead.\n"
          ],
          "name": "stderr"
        },
        {
          "output_type": "stream",
          "text": [
            "WARNING:tensorflow:Error in loading the saved optimizer state. As a result, your model is starting with a freshly initialized optimizer.\n"
          ],
          "name": "stdout"
        },
        {
          "output_type": "stream",
          "text": [
            "W0606 15:30:31.378099 139930870982528 saving.py:287] Error in loading the saved optimizer state. As a result, your model is starting with a freshly initialized optimizer.\n"
          ],
          "name": "stderr"
        }
      ]
    },
    {
      "cell_type": "code",
      "metadata": {
        "id": "SMbY2IHWz2BO",
        "colab_type": "code",
        "outputId": "f3e6852f-7d35-4e52-d174-d4034a37a079",
        "colab": {
          "base_uri": "https://localhost:8080/",
          "height": 248
        }
      },
      "source": [
        "#compile\n",
        "loaded_model.compile(optimizer=tf.keras.optimizers.RMSprop(lr=0.0001),\n",
        "              loss='binary_crossentropy',\n",
        "              metrics=['accuracy'])\n",
        "\n",
        "loaded_model.summary()"
      ],
      "execution_count": 6,
      "outputs": [
        {
          "output_type": "stream",
          "text": [
            "_________________________________________________________________\n",
            "Layer (type)                 Output Shape              Param #   \n",
            "=================================================================\n",
            "inception_v3 (Model)         (None, 18, 18, 2048)      21802784  \n",
            "_________________________________________________________________\n",
            "global_average_pooling2d (Gl (None, 2048)              0         \n",
            "_________________________________________________________________\n",
            "dense (Dense)                (None, 1)                 2049      \n",
            "=================================================================\n",
            "Total params: 21,804,833\n",
            "Trainable params: 21,770,401\n",
            "Non-trainable params: 34,432\n",
            "_________________________________________________________________\n"
          ],
          "name": "stdout"
        }
      ]
    },
    {
      "cell_type": "code",
      "metadata": {
        "id": "oeYGdiPYz3AF",
        "colab_type": "code",
        "outputId": "63e3359d-420e-4bd1-fb76-569259095d5f",
        "colab": {
          "base_uri": "https://localhost:8080/",
          "height": 35
        }
      },
      "source": [
        "image_size = 640\n",
        "batch_size = 1\n",
        "\n",
        "test_datagen = keras.preprocessing.image.ImageDataGenerator(\n",
        "                rescale=1./255)\n",
        "\n",
        "test_generator = test_datagen.flow_from_directory(\n",
        "                tst_dir,\n",
        "                target_size=(image_size, image_size),\n",
        "                batch_size= batch_size,\n",
        "                class_mode='binary')\n",
        "\n",
        "filenames = test_generator.filenames\n",
        "nb_samples = len(filenames)\n"
      ],
      "execution_count": 7,
      "outputs": [
        {
          "output_type": "stream",
          "text": [
            "Found 100 images belonging to 2 classes.\n"
          ],
          "name": "stdout"
        }
      ]
    },
    {
      "cell_type": "code",
      "metadata": {
        "id": "KRI3OeD5z4CS",
        "colab_type": "code",
        "colab": {}
      },
      "source": [
        "#keras accuracy\n",
        "#_, accuracy = loaded_model.evaluate_generator(generator=test_generator)\n",
        "#print('Accuracy on test set: {}%'.format(round(accuracy, 3)*100))"
      ],
      "execution_count": 0,
      "outputs": []
    },
    {
      "cell_type": "code",
      "metadata": {
        "id": "qKvj8IwFz5JV",
        "colab_type": "code",
        "colab": {}
      },
      "source": [
        "true_classes = test_generator.classes\n",
        "class_labels = list(test_generator.class_indices.keys())"
      ],
      "execution_count": 0,
      "outputs": []
    },
    {
      "cell_type": "code",
      "metadata": {
        "id": "HhzbLFTC6s9Y",
        "colab_type": "code",
        "colab": {}
      },
      "source": [
        "test_steps=test_generator.n // batch_size\n",
        "test_generator.reset()\n",
        "predict = loaded_model.predict_generator(test_generator, steps = test_steps)\n",
        "predicted_classes = np.where(predict>0.5, 1, 0) #so will come out as binary"
      ],
      "execution_count": 0,
      "outputs": []
    },
    {
      "cell_type": "code",
      "metadata": {
        "id": "Ezl2rBCTz6it",
        "colab_type": "code",
        "colab": {}
      },
      "source": [
        "import sklearn\n",
        "from sklearn.metrics import confusion_matrix\n",
        "import seaborn as sns"
      ],
      "execution_count": 0,
      "outputs": []
    },
    {
      "cell_type": "code",
      "metadata": {
        "id": "N97CBvESz7UQ",
        "colab_type": "code",
        "outputId": "28285321-bf4b-49af-8091-5c8144f092ce",
        "colab": {
          "base_uri": "https://localhost:8080/",
          "height": 620
        }
      },
      "source": [
        "print('Confusion Matrix')\n",
        "cm = sklearn.metrics.confusion_matrix(true_classes, predicted_classes)\n",
        "print(cm)\n",
        "\n",
        "#plot\n",
        "fig = plt.figure()\n",
        "ax = fig.add_subplot(111)\n",
        "cax = ax.matshow(cm, cmap=plt.cm.Blues)\n",
        "plt.title('Confusion Matrix 2')\n",
        "fig.colorbar(cax)\n",
        "ax.set_xticklabels([''] + class_labels)\n",
        "ax.set_yticklabels([''] + class_labels)\n",
        "plt.xlabel('Predicted')\n",
        "plt.ylabel('True')\n",
        "plt.show()\n",
        "\n",
        "#using seaborn\n",
        "ax= plt.subplot()\n",
        "sns.heatmap(cm, annot=True, ax = ax, cmap=\"BuPu\", square=True);\n",
        "\n",
        "# labels, title and ticks\n",
        "ax.set_xlabel('Predicted Labels');\n",
        "ax.set_ylabel('True Labels'); \n",
        "ax.set_title('Confusion Matrix 2'); \n",
        "ax.xaxis.set_ticklabels(class_labels + class_labels); \n",
        "ax.yaxis.set_ticklabels(class_labels + class_labels);\n"
      ],
      "execution_count": 12,
      "outputs": [
        {
          "output_type": "stream",
          "text": [
            "Confusion Matrix\n",
            "[[34 16]\n",
            " [28 22]]\n"
          ],
          "name": "stdout"
        },
        {
          "output_type": "display_data",
          "data": {
            "image/png": "[encoded data removed]",
            "text/plain": [
              "<Figure size 432x288 with 2 Axes>"
            ]
          },
          "metadata": {
            "tags": []
          }
        },
        {
          "output_type": "display_data",
          "data": {
            "image/png": "[encoded data removed]",
            "text/plain": [
              "<Figure size 432x288 with 2 Axes>"
            ]
          },
          "metadata": {
            "tags": []
          }
        }
      ]
    },
    {
      "cell_type": "code",
      "metadata": {
        "id": "8-emBVfAz8vn",
        "colab_type": "code",
        "outputId": "eeb1f81c-f468-4913-d7f4-2f2c08188137",
        "colab": {
          "base_uri": "https://localhost:8080/",
          "height": 195
        }
      },
      "source": [
        "print('Classification Report 2') \n",
        "print(sklearn.metrics.classification_report(true_classes, predicted_classes, target_names=class_labels))"
      ],
      "execution_count": 13,
      "outputs": [
        {
          "output_type": "stream",
          "text": [
            "Classification Report 2\n",
            "              precision    recall  f1-score   support\n",
            "\n",
            "     Dislike       0.55      0.68      0.61        50\n",
            "        Like       0.58      0.44      0.50        50\n",
            "\n",
            "    accuracy                           0.56       100\n",
            "   macro avg       0.56      0.56      0.55       100\n",
            "weighted avg       0.56      0.56      0.55       100\n",
            "\n"
          ],
          "name": "stdout"
        }
      ]
    },
    {
      "cell_type": "code",
      "metadata": {
        "id": "8Oi1Lsst4hvE",
        "colab_type": "code",
        "outputId": "ddb52bb8-00ec-4c41-b89e-291333391b1c",
        "colab": {
          "base_uri": "https://localhost:8080/",
          "height": 1795
        }
      },
      "source": [
        "#make both true_classes and predicted_classes into lists\n",
        "t_classes = list(true_classes)\n",
        "\n",
        "p_classes = []\n",
        "for sublist in predicted_classes:\n",
        "    for item in sublist:\n",
        "        p_classes.append(item)\n",
        "        \n",
        "#to see which ones have been misclassified\n",
        "\n",
        "a = (t_classes, p_classes, filenames)\n",
        "b = np.column_stack(a)\n",
        "print(b)"
      ],
      "execution_count": 14,
      "outputs": [
        {
          "output_type": "stream",
          "text": [
            "[['0' '0' 'Dislike/D100.jpg']\n",
            " ['0' '1' 'Dislike/D51.jpg']\n",
            " ['0' '0' 'Dislike/D52.jpg']\n",
            " ['0' '0' 'Dislike/D53.jpg']\n",
            " ['0' '1' 'Dislike/D54.jpg']\n",
            " ['0' '0' 'Dislike/D55.jpg']\n",
            " ['0' '1' 'Dislike/D56.jpg']\n",
            " ['0' '0' 'Dislike/D57.jpg']\n",
            " ['0' '0' 'Dislike/D58.jpg']\n",
            " ['0' '0' 'Dislike/D59.jpg']\n",
            " ['0' '1' 'Dislike/D60.jpg']\n",
            " ['0' '0' 'Dislike/D61.jpg']\n",
            " ['0' '0' 'Dislike/D62.jpg']\n",
            " ['0' '1' 'Dislike/D63.jpg']\n",
            " ['0' '1' 'Dislike/D64.jpg']\n",
            " ['0' '1' 'Dislike/D65.jpg']\n",
            " ['0' '0' 'Dislike/D66.jpg']\n",
            " ['0' '1' 'Dislike/D67.jpg']\n",
            " ['0' '1' 'Dislike/D68.jpg']\n",
            " ['0' '0' 'Dislike/D69.jpg']\n",
            " ['0' '0' 'Dislike/D70.jpg']\n",
            " ['0' '0' 'Dislike/D71.jpg']\n",
            " ['0' '0' 'Dislike/D72.jpg']\n",
            " ['0' '1' 'Dislike/D73.jpg']\n",
            " ['0' '1' 'Dislike/D74.jpg']\n",
            " ['0' '0' 'Dislike/D75.jpg']\n",
            " ['0' '0' 'Dislike/D76.jpg']\n",
            " ['0' '1' 'Dislike/D77.jpg']\n",
            " ['0' '0' 'Dislike/D78.jpg']\n",
            " ['0' '0' 'Dislike/D79.jpg']\n",
            " ['0' '0' 'Dislike/D80.jpg']\n",
            " ['0' '1' 'Dislike/D81.jpg']\n",
            " ['0' '0' 'Dislike/D82.jpg']\n",
            " ['0' '0' 'Dislike/D83.jpg']\n",
            " ['0' '0' 'Dislike/D84.jpg']\n",
            " ['0' '0' 'Dislike/D85.jpg']\n",
            " ['0' '0' 'Dislike/D86.jpg']\n",
            " ['0' '0' 'Dislike/D87.jpg']\n",
            " ['0' '1' 'Dislike/D88.jpg']\n",
            " ['0' '0' 'Dislike/D89.jpg']\n",
            " ['0' '0' 'Dislike/D90.jpg']\n",
            " ['0' '0' 'Dislike/D91.jpg']\n",
            " ['0' '0' 'Dislike/D92.jpg']\n",
            " ['0' '0' 'Dislike/D93.jpg']\n",
            " ['0' '1' 'Dislike/D94.jpg']\n",
            " ['0' '0' 'Dislike/D95.jpg']\n",
            " ['0' '0' 'Dislike/D96.jpg']\n",
            " ['0' '0' 'Dislike/D97.jpg']\n",
            " ['0' '1' 'Dislike/D98.jpg']\n",
            " ['0' '0' 'Dislike/D99.jpg']\n",
            " ['1' '1' 'Like/L100.jpg']\n",
            " ['1' '1' 'Like/L51.jpg']\n",
            " ['1' '0' 'Like/L52.jpg']\n",
            " ['1' '0' 'Like/L53.jpg']\n",
            " ['1' '1' 'Like/L54.jpg']\n",
            " ['1' '0' 'Like/L55.jpg']\n",
            " ['1' '0' 'Like/L56.jpg']\n",
            " ['1' '0' 'Like/L57.jpg']\n",
            " ['1' '0' 'Like/L58.jpg']\n",
            " ['1' '0' 'Like/L59.jpg']\n",
            " ['1' '1' 'Like/L60.jpg']\n",
            " ['1' '0' 'Like/L61.jpg']\n",
            " ['1' '1' 'Like/L62.jpg']\n",
            " ['1' '1' 'Like/L63.jpg']\n",
            " ['1' '1' 'Like/L64.jpg']\n",
            " ['1' '0' 'Like/L65.jpg']\n",
            " ['1' '0' 'Like/L66.jpg']\n",
            " ['1' '0' 'Like/L67.jpg']\n",
            " ['1' '1' 'Like/L68.jpg']\n",
            " ['1' '0' 'Like/L69.jpg']\n",
            " ['1' '0' 'Like/L70.jpg']\n",
            " ['1' '1' 'Like/L71.jpg']\n",
            " ['1' '1' 'Like/L72.jpg']\n",
            " ['1' '1' 'Like/L73.jpg']\n",
            " ['1' '1' 'Like/L74.jpg']\n",
            " ['1' '0' 'Like/L75.jpg']\n",
            " ['1' '0' 'Like/L76.jpg']\n",
            " ['1' '0' 'Like/L77.jpg']\n",
            " ['1' '0' 'Like/L78.jpg']\n",
            " ['1' '0' 'Like/L79.jpg']\n",
            " ['1' '0' 'Like/L80.jpg']\n",
            " ['1' '0' 'Like/L81.jpg']\n",
            " ['1' '1' 'Like/L82.jpg']\n",
            " ['1' '0' 'Like/L83.jpg']\n",
            " ['1' '1' 'Like/L84.jpg']\n",
            " ['1' '1' 'Like/L85.jpg']\n",
            " ['1' '1' 'Like/L86.jpg']\n",
            " ['1' '0' 'Like/L87.jpg']\n",
            " ['1' '0' 'Like/L88.jpg']\n",
            " ['1' '1' 'Like/L89.jpg']\n",
            " ['1' '0' 'Like/L90.jpg']\n",
            " ['1' '1' 'Like/L91.jpg']\n",
            " ['1' '0' 'Like/L92.jpg']\n",
            " ['1' '1' 'Like/L93.jpg']\n",
            " ['1' '0' 'Like/L94.jpg']\n",
            " ['1' '1' 'Like/L95.jpg']\n",
            " ['1' '1' 'Like/L96.jpg']\n",
            " ['1' '0' 'Like/L97.jpg']\n",
            " ['1' '1' 'Like/L98.jpg']\n",
            " ['1' '0' 'Like/L99.jpg']]\n"
          ],
          "name": "stdout"
        }
      ]
    }
  ]
}