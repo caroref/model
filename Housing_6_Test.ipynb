{
  "nbformat": 4,
  "nbformat_minor": 0,
  "metadata": {
    "colab": {
      "name": "Housing 6 Test.ipynb",
      "version": "0.3.2",
      "provenance": [],
      "collapsed_sections": [],
      "include_colab_link": true
    },
    "kernelspec": {
      "name": "python3",
      "display_name": "Python 3"
    },
    "accelerator": "GPU"
  },
  "cells": [
    {
      "cell_type": "markdown",
      "metadata": {
        "id": "view-in-github",
        "colab_type": "text"
      },
      "source": [
        "<a href=\"https://colab.research.google.com/github/caroref/model/blob/master/Housing_6_Test.ipynb\" target=\"_parent\"><img src=\"https://colab.research.google.com/assets/colab-badge.svg\" alt=\"Open In Colab\"/></a>"
      ]
    },
    {
      "cell_type": "code",
      "metadata": {
        "id": "A2YouEqhz_JR",
        "colab_type": "code",
        "outputId": "b5d85aa7-2566-4e59-a432-7b5b15da743d",
        "colab": {
          "base_uri": "https://localhost:8080/",
          "height": 90
        }
      },
      "source": [
        "from __future__ import absolute_import, division, print_function, unicode_literals\n",
        "\n",
        "import os\n",
        "import random\n",
        "import shutil\n",
        "\n",
        "import tensorflow as tf\n",
        "import tensorflow_hub as hub\n",
        "print(\"TensorFlow version is \", tf.__version__)\n",
        "\n",
        "from tensorflow import keras\n",
        "from tensorflow.keras import layers\n",
        "\n",
        "import numpy as np\n",
        "\n",
        "import matplotlib.pyplot as plt\n",
        "import matplotlib.image as mpimg"
      ],
      "execution_count": 1,
      "outputs": [
        {
          "output_type": "stream",
          "text": [
            "WARNING: Logging before flag parsing goes to stderr.\n",
            "W0606 21:21:33.213886 140578699552640 __init__.py:56] Some hub symbols are not available because TensorFlow version is less than 1.14\n"
          ],
          "name": "stderr"
        },
        {
          "output_type": "stream",
          "text": [
            "TensorFlow version is  1.13.1\n"
          ],
          "name": "stdout"
        }
      ]
    },
    {
      "cell_type": "code",
      "metadata": {
        "id": "KfSIWF1q0Csv",
        "colab_type": "code",
        "outputId": "294b046c-0c46-473b-ef07-c4ead1786309",
        "colab": {
          "base_uri": "https://localhost:8080/",
          "height": 232
        }
      },
      "source": [
        "# Allow Colab to access drive\n",
        "!apt-get install -y -qq software-properties-common python-software-properties module-init-tools\n",
        "!add-apt-repository -y ppa:alessandro-strada/ppa 2>&1 > /dev/null\n",
        "!apt-get update -qq 2>&1 > /dev/null\n",
        "!apt-get -y install -qq google-drive-ocamlfuse fuse\n",
        "from google.colab import auth\n",
        "auth.authenticate_user()\n",
        "from oauth2client.client import GoogleCredentials\n",
        "creds = GoogleCredentials.get_application_default()\n",
        "import getpass\n",
        "!google-drive-ocamlfuse -headless -id={creds.client_id} -secret={creds.client_secret} < /dev/null 2>&1 | grep URL\n",
        "vcode = getpass.getpass()\n",
        "!echo {vcode} | google-drive-ocamlfuse -headless -id={creds.client_id} -secret={creds.client_secret}\n",
        "\n",
        "#linking Colab to use drive as if local\n",
        "!mkdir -p drive\n",
        "!google-drive-ocamlfuse drive\n"
      ],
      "execution_count": 2,
      "outputs": [
        {
          "output_type": "stream",
          "text": [
            "E: Package 'python-software-properties' has no installation candidate\n",
            "Selecting previously unselected package google-drive-ocamlfuse.\n",
            "(Reading database ... 130912 files and directories currently installed.)\n",
            "Preparing to unpack .../google-drive-ocamlfuse_0.7.3-0ubuntu3~ubuntu18.04.1_amd64.deb ...\n",
            "Unpacking google-drive-ocamlfuse (0.7.3-0ubuntu3~ubuntu18.04.1) ...\n",
            "Setting up google-drive-ocamlfuse (0.7.3-0ubuntu3~ubuntu18.04.1) ...\n",
            "Processing triggers for man-db (2.8.3-2ubuntu0.1) ...\n",
            "Please, open the following URL in a web browser: https://accounts.google.com/o/oauth2/auth?client_id=32555940559.apps.googleusercontent.com&redirect_uri=urn%3Aietf%3Awg%3Aoauth%3A2.0%3Aoob&scope=https%3A%2F%2Fwww.googleapis.com%2Fauth%2Fdrive&response_type=code&access_type=offline&approval_prompt=force\n",
            "··········\n",
            "Please, open the following URL in a web browser: https://accounts.google.com/o/oauth2/auth?client_id=32555940559.apps.googleusercontent.com&redirect_uri=urn%3Aietf%3Awg%3Aoauth%3A2.0%3Aoob&scope=https%3A%2F%2Fwww.googleapis.com%2Fauth%2Fdrive&response_type=code&access_type=offline&approval_prompt=force\n",
            "Please enter the verification code: Access token retrieved correctly.\n"
          ],
          "name": "stdout"
        }
      ]
    },
    {
      "cell_type": "code",
      "metadata": {
        "id": "0MY-mhUE1VbV",
        "colab_type": "code",
        "colab": {}
      },
      "source": [
        "trn_dir = 'drive/Colab/Final/Test6/Train/'\n",
        "tst_dir = 'drive/Colab/Final/Test6/Test/'\n",
        "\n",
        "trn_like = os.path.join(trn_dir, 'Like')\n",
        "tst_like = os.path.join(tst_dir, 'Like')\n",
        "\n",
        "trn_disl = os.path.join(trn_dir, 'Dislike')\n",
        "tst_disl = os.path.join(tst_dir, 'Dislike')"
      ],
      "execution_count": 0,
      "outputs": []
    },
    {
      "cell_type": "code",
      "metadata": {
        "id": "HMY205oWzug7",
        "colab_type": "code",
        "colab": {}
      },
      "source": [
        "# keras library import  for Saving and loading model and weights\n",
        "from tensorflow.keras.models import model_from_json\n",
        "from tensorflow.keras.models import load_model"
      ],
      "execution_count": 0,
      "outputs": []
    },
    {
      "cell_type": "code",
      "metadata": {
        "id": "pVGVQqgmzxla",
        "colab_type": "code",
        "outputId": "a0dae3f2-11d1-46f8-c24e-05a9d9bfd32b",
        "colab": {
          "base_uri": "https://localhost:8080/",
          "height": 304
        }
      },
      "source": [
        "# load json and create model\n",
        "json_file = open('drive/Colab Notebooks/model/6_model_num.json', 'r')\n",
        "\n",
        "loaded_model_json = json_file.read()\n",
        "json_file.close()\n",
        "loaded_model = model_from_json(loaded_model_json)\n",
        "\n",
        "# load weights into new model\n",
        "loaded_model.load_weights(\"drive/Colab Notebooks/model/6_model_num.h5\")\n",
        "print(\"Loaded model from drive\")\n",
        "\n",
        "loaded_model=load_model('drive/Colab Notebooks/model/6_model_num.hdf5')\n"
      ],
      "execution_count": 5,
      "outputs": [
        {
          "output_type": "stream",
          "text": [
            "WARNING:tensorflow:From /usr/local/lib/python3.6/dist-packages/tensorflow/python/ops/resource_variable_ops.py:435: colocate_with (from tensorflow.python.framework.ops) is deprecated and will be removed in a future version.\n",
            "Instructions for updating:\n",
            "Colocations handled automatically by placer.\n"
          ],
          "name": "stdout"
        },
        {
          "output_type": "stream",
          "text": [
            "W0606 21:23:01.128104 140578699552640 deprecation.py:323] From /usr/local/lib/python3.6/dist-packages/tensorflow/python/ops/resource_variable_ops.py:435: colocate_with (from tensorflow.python.framework.ops) is deprecated and will be removed in a future version.\n",
            "Instructions for updating:\n",
            "Colocations handled automatically by placer.\n"
          ],
          "name": "stderr"
        },
        {
          "output_type": "stream",
          "text": [
            "Loaded model from drive\n",
            "WARNING:tensorflow:From /usr/local/lib/python3.6/dist-packages/tensorflow/python/ops/math_ops.py:3066: to_int32 (from tensorflow.python.ops.math_ops) is deprecated and will be removed in a future version.\n",
            "Instructions for updating:\n",
            "Use tf.cast instead.\n"
          ],
          "name": "stdout"
        },
        {
          "output_type": "stream",
          "text": [
            "W0606 21:23:48.062248 140578699552640 deprecation.py:323] From /usr/local/lib/python3.6/dist-packages/tensorflow/python/ops/math_ops.py:3066: to_int32 (from tensorflow.python.ops.math_ops) is deprecated and will be removed in a future version.\n",
            "Instructions for updating:\n",
            "Use tf.cast instead.\n"
          ],
          "name": "stderr"
        },
        {
          "output_type": "stream",
          "text": [
            "WARNING:tensorflow:Error in loading the saved optimizer state. As a result, your model is starting with a freshly initialized optimizer.\n"
          ],
          "name": "stdout"
        },
        {
          "output_type": "stream",
          "text": [
            "W0606 21:23:55.654951 140578699552640 saving.py:287] Error in loading the saved optimizer state. As a result, your model is starting with a freshly initialized optimizer.\n"
          ],
          "name": "stderr"
        }
      ]
    },
    {
      "cell_type": "code",
      "metadata": {
        "id": "SMbY2IHWz2BO",
        "colab_type": "code",
        "colab": {}
      },
      "source": [
        ""
      ],
      "execution_count": 0,
      "outputs": []
    },
    {
      "cell_type": "code",
      "metadata": {
        "id": "oeYGdiPYz3AF",
        "colab_type": "code",
        "outputId": "9657ff7c-1e32-4a60-d0da-01026dc4c327",
        "colab": {
          "base_uri": "https://localhost:8080/",
          "height": 35
        }
      },
      "source": [
        "image_size = 640\n",
        "batch_size = 1\n",
        "\n",
        "test_datagen = keras.preprocessing.image.ImageDataGenerator(\n",
        "                rescale=1./255)\n",
        "\n",
        "test_generator = test_datagen.flow_from_directory(\n",
        "                tst_dir,\n",
        "                target_size=(image_size, image_size),\n",
        "                batch_size= batch_size,\n",
        "                class_mode='binary')\n",
        "\n",
        "filenames = test_generator.filenames\n",
        "nb_samples = len(filenames)\n"
      ],
      "execution_count": 6,
      "outputs": [
        {
          "output_type": "stream",
          "text": [
            "Found 100 images belonging to 2 classes.\n"
          ],
          "name": "stdout"
        }
      ]
    },
    {
      "cell_type": "code",
      "metadata": {
        "id": "KRI3OeD5z4CS",
        "colab_type": "code",
        "colab": {}
      },
      "source": [
        "#keras accuracy\n",
        "#_, accuracy = loaded_model.evaluate_generator(generator=test_generator)\n",
        "#print('Accuracy on test set: {}%'.format(round(accuracy, 3)*100))"
      ],
      "execution_count": 0,
      "outputs": []
    },
    {
      "cell_type": "code",
      "metadata": {
        "id": "qKvj8IwFz5JV",
        "colab_type": "code",
        "colab": {}
      },
      "source": [
        "true_classes = test_generator.classes\n",
        "class_labels = list(test_generator.class_indices.keys())"
      ],
      "execution_count": 0,
      "outputs": []
    },
    {
      "cell_type": "code",
      "metadata": {
        "id": "HhzbLFTC6s9Y",
        "colab_type": "code",
        "colab": {}
      },
      "source": [
        "test_steps=test_generator.n // batch_size\n",
        "test_generator.reset()\n",
        "predict = loaded_model.predict_generator(test_generator, steps = test_steps)\n",
        "predicted_classes = np.where(predict>0.5, 1, 0) #so will come out as binary"
      ],
      "execution_count": 0,
      "outputs": []
    },
    {
      "cell_type": "code",
      "metadata": {
        "id": "Ezl2rBCTz6it",
        "colab_type": "code",
        "colab": {}
      },
      "source": [
        "import sklearn\n",
        "from sklearn.metrics import confusion_matrix\n",
        "import seaborn as sns"
      ],
      "execution_count": 0,
      "outputs": []
    },
    {
      "cell_type": "code",
      "metadata": {
        "id": "N97CBvESz7UQ",
        "colab_type": "code",
        "outputId": "bae67626-a629-4c84-f77e-6819efbbeb67",
        "colab": {
          "base_uri": "https://localhost:8080/",
          "height": 620
        }
      },
      "source": [
        "print('Confusion Matrix')\n",
        "cm = sklearn.metrics.confusion_matrix(true_classes, predicted_classes)\n",
        "print(cm)\n",
        "\n",
        "#plot\n",
        "fig = plt.figure()\n",
        "ax = fig.add_subplot(111)\n",
        "cax = ax.matshow(cm, cmap=plt.cm.Blues)\n",
        "plt.title('Confusion Matrix 6')\n",
        "fig.colorbar(cax)\n",
        "ax.set_xticklabels([''] + class_labels)\n",
        "ax.set_yticklabels([''] + class_labels)\n",
        "plt.xlabel('Predicted')\n",
        "plt.ylabel('True')\n",
        "plt.show()\n",
        "\n",
        "#using seaborn\n",
        "ax= plt.subplot()\n",
        "sns.heatmap(cm, annot=True, ax = ax, cmap=\"BuPu\", square=True);\n",
        "\n",
        "# labels, title and ticks\n",
        "ax.set_xlabel('Predicted Labels');\n",
        "ax.set_ylabel('True Labels'); \n",
        "ax.set_title('Confusion Matrix 6'); \n",
        "ax.xaxis.set_ticklabels(class_labels + class_labels); \n",
        "ax.yaxis.set_ticklabels(class_labels + class_labels);\n"
      ],
      "execution_count": 11,
      "outputs": [
        {
          "output_type": "stream",
          "text": [
            "Confusion Matrix\n",
            "[[29 21]\n",
            " [17 33]]\n"
          ],
          "name": "stdout"
        },
        {
          "output_type": "display_data",
          "data": {
            "image/png": "[encoded data removed]",
            "text/plain": [
              "<Figure size 432x288 with 2 Axes>"
            ]
          },
          "metadata": {
            "tags": []
          }
        },
        {
          "output_type": "display_data",
          "data": {
            "image/png": "[encoded data removed]",
            "text/plain": [
              "<Figure size 432x288 with 2 Axes>"
            ]
          },
          "metadata": {
            "tags": []
          }
        }
      ]
    },
    {
      "cell_type": "code",
      "metadata": {
        "id": "8-emBVfAz8vn",
        "colab_type": "code",
        "outputId": "b6437337-fc99-4152-96e4-97b545e52553",
        "colab": {
          "base_uri": "https://localhost:8080/",
          "height": 195
        }
      },
      "source": [
        "print('Classification Report 6') \n",
        "print(sklearn.metrics.classification_report(true_classes, predicted_classes, target_names=class_labels))"
      ],
      "execution_count": 12,
      "outputs": [
        {
          "output_type": "stream",
          "text": [
            "Classification Report 6\n",
            "              precision    recall  f1-score   support\n",
            "\n",
            "     Dislike       0.63      0.58      0.60        50\n",
            "        Like       0.61      0.66      0.63        50\n",
            "\n",
            "    accuracy                           0.62       100\n",
            "   macro avg       0.62      0.62      0.62       100\n",
            "weighted avg       0.62      0.62      0.62       100\n",
            "\n"
          ],
          "name": "stdout"
        }
      ]
    },
    {
      "cell_type": "code",
      "metadata": {
        "id": "8Oi1Lsst4hvE",
        "colab_type": "code",
        "outputId": "3d542fba-d029-4a13-fb3e-421e8a848679",
        "colab": {
          "base_uri": "https://localhost:8080/",
          "height": 1795
        }
      },
      "source": [
        "#make both true_classes and predicted_classes into lists\n",
        "t_classes = list(true_classes)\n",
        "\n",
        "p_classes = []\n",
        "for sublist in predicted_classes:\n",
        "    for item in sublist:\n",
        "        p_classes.append(item)\n",
        "        \n",
        "#to see which ones have been misclassified\n",
        "\n",
        "a = (t_classes, p_classes, filenames)\n",
        "b = np.column_stack(a)\n",
        "print(b)\n"
      ],
      "execution_count": 13,
      "outputs": [
        {
          "output_type": "stream",
          "text": [
            "[['0' '0' 'Dislike/D251.jpg']\n",
            " ['0' '0' 'Dislike/D252.jpg']\n",
            " ['0' '0' 'Dislike/D253.jpg']\n",
            " ['0' '0' 'Dislike/D254.jpg']\n",
            " ['0' '1' 'Dislike/D255.jpg']\n",
            " ['0' '1' 'Dislike/D256.jpg']\n",
            " ['0' '0' 'Dislike/D257.jpg']\n",
            " ['0' '0' 'Dislike/D258.jpg']\n",
            " ['0' '0' 'Dislike/D259.jpg']\n",
            " ['0' '0' 'Dislike/D260.jpg']\n",
            " ['0' '1' 'Dislike/D261.jpg']\n",
            " ['0' '1' 'Dislike/D262.jpg']\n",
            " ['0' '0' 'Dislike/D263.jpg']\n",
            " ['0' '0' 'Dislike/D264.jpg']\n",
            " ['0' '1' 'Dislike/D265.jpg']\n",
            " ['0' '0' 'Dislike/D266.jpg']\n",
            " ['0' '1' 'Dislike/D267.jpg']\n",
            " ['0' '0' 'Dislike/D268.jpg']\n",
            " ['0' '1' 'Dislike/D269.jpg']\n",
            " ['0' '0' 'Dislike/D270.jpg']\n",
            " ['0' '0' 'Dislike/D271.jpg']\n",
            " ['0' '0' 'Dislike/D272.jpg']\n",
            " ['0' '1' 'Dislike/D273.jpg']\n",
            " ['0' '1' 'Dislike/D274.jpg']\n",
            " ['0' '1' 'Dislike/D275.jpg']\n",
            " ['0' '0' 'Dislike/D276.jpg']\n",
            " ['0' '1' 'Dislike/D277.jpg']\n",
            " ['0' '1' 'Dislike/D278.jpg']\n",
            " ['0' '0' 'Dislike/D279.jpg']\n",
            " ['0' '1' 'Dislike/D280.jpg']\n",
            " ['0' '1' 'Dislike/D281.jpg']\n",
            " ['0' '1' 'Dislike/D282.jpg']\n",
            " ['0' '1' 'Dislike/D283.jpg']\n",
            " ['0' '0' 'Dislike/D284.jpg']\n",
            " ['0' '1' 'Dislike/D285.jpg']\n",
            " ['0' '0' 'Dislike/D286.jpg']\n",
            " ['0' '1' 'Dislike/D287.jpg']\n",
            " ['0' '1' 'Dislike/D288.jpg']\n",
            " ['0' '0' 'Dislike/D289.jpg']\n",
            " ['0' '0' 'Dislike/D290.jpg']\n",
            " ['0' '0' 'Dislike/D291.jpg']\n",
            " ['0' '0' 'Dislike/D292.jpg']\n",
            " ['0' '1' 'Dislike/D293.jpg']\n",
            " ['0' '0' 'Dislike/D294.jpg']\n",
            " ['0' '0' 'Dislike/D295.jpg']\n",
            " ['0' '0' 'Dislike/D296.jpg']\n",
            " ['0' '1' 'Dislike/D297.jpg']\n",
            " ['0' '0' 'Dislike/D298.jpg']\n",
            " ['0' '0' 'Dislike/D299.jpg']\n",
            " ['0' '0' 'Dislike/D300.jpg']\n",
            " ['1' '1' 'Like/L251.jpg']\n",
            " ['1' '1' 'Like/L252.jpg']\n",
            " ['1' '1' 'Like/L253.jpg']\n",
            " ['1' '1' 'Like/L254.jpg']\n",
            " ['1' '1' 'Like/L255.jpg']\n",
            " ['1' '0' 'Like/L256.jpg']\n",
            " ['1' '1' 'Like/L257.jpg']\n",
            " ['1' '1' 'Like/L258.jpg']\n",
            " ['1' '1' 'Like/L259.jpg']\n",
            " ['1' '0' 'Like/L260.jpg']\n",
            " ['1' '1' 'Like/L261.jpg']\n",
            " ['1' '1' 'Like/L262.jpg']\n",
            " ['1' '1' 'Like/L263.jpg']\n",
            " ['1' '1' 'Like/L264.jpg']\n",
            " ['1' '1' 'Like/L265.jpg']\n",
            " ['1' '1' 'Like/L266.jpg']\n",
            " ['1' '1' 'Like/L267.jpg']\n",
            " ['1' '1' 'Like/L268.jpg']\n",
            " ['1' '1' 'Like/L269.jpg']\n",
            " ['1' '1' 'Like/L270.jpg']\n",
            " ['1' '1' 'Like/L271.jpg']\n",
            " ['1' '0' 'Like/L272.jpg']\n",
            " ['1' '1' 'Like/L273.jpg']\n",
            " ['1' '0' 'Like/L274.jpg']\n",
            " ['1' '1' 'Like/L275.jpg']\n",
            " ['1' '1' 'Like/L276.jpg']\n",
            " ['1' '1' 'Like/L277.jpg']\n",
            " ['1' '0' 'Like/L278.jpg']\n",
            " ['1' '0' 'Like/L279.jpg']\n",
            " ['1' '1' 'Like/L280.jpg']\n",
            " ['1' '0' 'Like/L281.jpg']\n",
            " ['1' '0' 'Like/L282.jpg']\n",
            " ['1' '1' 'Like/L283.jpg']\n",
            " ['1' '1' 'Like/L284.jpg']\n",
            " ['1' '0' 'Like/L285.jpg']\n",
            " ['1' '0' 'Like/L286.jpg']\n",
            " ['1' '0' 'Like/L287.jpg']\n",
            " ['1' '0' 'Like/L288.jpg']\n",
            " ['1' '1' 'Like/L289.jpg']\n",
            " ['1' '1' 'Like/L290.jpg']\n",
            " ['1' '1' 'Like/L291.jpg']\n",
            " ['1' '1' 'Like/L292.jpg']\n",
            " ['1' '1' 'Like/L293.jpg']\n",
            " ['1' '0' 'Like/L294.jpg']\n",
            " ['1' '0' 'Like/L295.jpg']\n",
            " ['1' '1' 'Like/L296.jpg']\n",
            " ['1' '0' 'Like/L297.jpg']\n",
            " ['1' '1' 'Like/L298.jpg']\n",
            " ['1' '0' 'Like/L299.jpg']\n",
            " ['1' '0' 'Like/L300.jpg']]\n"
          ],
          "name": "stdout"
        }
      ]
    }
  ]
}